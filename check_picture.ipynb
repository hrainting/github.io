{
 "cells": [
  {
   "cell_type": "code",
   "execution_count": 1,
   "id": "civic-foundation",
   "metadata": {},
   "outputs": [],
   "source": [
    "import pandas as pd\n",
    "import numpy as np"
   ]
  },
  {
   "cell_type": "code",
   "execution_count": 2,
   "id": "fatal-stanford",
   "metadata": {},
   "outputs": [],
   "source": [
    "#check=pd.read_excel('recheck.xlsx')\n",
    "data=pd.read_csv('Tag_divide_mergy.csv')"
   ]
  },
  {
   "cell_type": "code",
   "execution_count": 4,
   "id": "electoral-stretch",
   "metadata": {},
   "outputs": [
    {
     "name": "stdout",
     "output_type": "stream",
     "text": [
      "<class 'pandas.core.frame.DataFrame'>\n",
      "RangeIndex: 392 entries, 0 to 391\n",
      "Data columns (total 1 columns):\n",
      " #   Column  Non-Null Count  Dtype\n",
      "---  ------  --------------  -----\n",
      " 0   AppID   392 non-null    int64\n",
      "dtypes: int64(1)\n",
      "memory usage: 3.2 KB\n"
     ]
    }
   ],
   "source": [
    "check.info()"
   ]
  },
  {
   "cell_type": "code",
   "execution_count": 3,
   "id": "sorted-montreal",
   "metadata": {},
   "outputs": [
    {
     "name": "stdout",
     "output_type": "stream",
     "text": [
      "<class 'pandas.core.frame.DataFrame'>\n",
      "RangeIndex: 68899 entries, 0 to 68898\n",
      "Data columns (total 25 columns):\n",
      " #   Column             Non-Null Count  Dtype  \n",
      "---  ------             --------------  -----  \n",
      " 0   Unnamed: 0         68899 non-null  int64  \n",
      " 1   AppID              68899 non-null  int64  \n",
      " 2   AppType            68899 non-null  object \n",
      " 3   Followers          68899 non-null  int64  \n",
      " 4   Positive_rev       68899 non-null  int64  \n",
      " 5   Negative_rev       68899 non-null  int64  \n",
      " 6   Positive_rev_per   68899 non-null  float64\n",
      " 7   Steam reviews      68899 non-null  float64\n",
      " 8   PlayTracker        68899 non-null  float64\n",
      " 9   VG Insights        68899 non-null  float64\n",
      " 10  SteamSpy           68899 non-null  float64\n",
      " 11  Tags               56861 non-null  object \n",
      " 12  Top-Level Genres   55992 non-null  object \n",
      " 13  Genres             40405 non-null  object \n",
      " 14  Sub-Genres         34445 non-null  object \n",
      " 15  Visuals&Viewpoint  40497 non-null  object \n",
      " 16  Themes&Moods       38336 non-null  object \n",
      " 17  Features           34128 non-null  object \n",
      " 18  Players            33410 non-null  object \n",
      " 19  Other Tags         39756 non-null  object \n",
      " 20  Software           3046 non-null   object \n",
      " 21  Assessments        20914 non-null  object \n",
      " 22  Ratings etc        7381 non-null   object \n",
      " 23  Hardware/Input     5269 non-null   object \n",
      " 24  Funding etc        11400 non-null  object \n",
      "dtypes: float64(5), int64(5), object(15)\n",
      "memory usage: 13.1+ MB\n"
     ]
    }
   ],
   "source": [
    "data.info()"
   ]
  },
  {
   "cell_type": "code",
   "execution_count": 4,
   "id": "affiliated-sheriff",
   "metadata": {},
   "outputs": [],
   "source": [
    "import os "
   ]
  },
  {
   "cell_type": "code",
   "execution_count": 5,
   "id": "assured-nudist",
   "metadata": {},
   "outputs": [],
   "source": [
    "success=[]\n",
    "fail=[]"
   ]
  },
  {
   "cell_type": "code",
   "execution_count": 6,
   "id": "institutional-tyler",
   "metadata": {},
   "outputs": [],
   "source": [
    "for i in data['AppID']:\n",
    "    if os.path.exists('D:\\paper\\game\\data\\pictures/'+str(i)+'.jpg'):\n",
    "        success.extend([i])\n",
    "    else:\n",
    "        fail.extend([i])"
   ]
  },
  {
   "cell_type": "code",
   "execution_count": 7,
   "id": "fluid-forest",
   "metadata": {},
   "outputs": [
    {
     "data": {
      "text/plain": [
       "68897"
      ]
     },
     "execution_count": 7,
     "metadata": {},
     "output_type": "execute_result"
    }
   ],
   "source": [
    "len(success)"
   ]
  },
  {
   "cell_type": "code",
   "execution_count": 8,
   "id": "contemporary-extraction",
   "metadata": {},
   "outputs": [
    {
     "data": {
      "text/plain": [
       "2"
      ]
     },
     "execution_count": 8,
     "metadata": {},
     "output_type": "execute_result"
    }
   ],
   "source": [
    "len(fail)"
   ]
  },
  {
   "cell_type": "code",
   "execution_count": 9,
   "id": "collected-concept",
   "metadata": {},
   "outputs": [
    {
     "data": {
      "text/plain": [
       "[312860, 382940]"
      ]
     },
     "execution_count": 9,
     "metadata": {},
     "output_type": "execute_result"
    }
   ],
   "source": [
    "fail"
   ]
  },
  {
   "cell_type": "code",
   "execution_count": 24,
   "id": "incident-setting",
   "metadata": {},
   "outputs": [],
   "source": [
    "fail_id = pd.DataFrame(data=fail)\n",
    "fail_id.to_csv('fail_id.csv')"
   ]
  },
  {
   "cell_type": "code",
   "execution_count": 30,
   "id": "metallic-civilian",
   "metadata": {},
   "outputs": [
    {
     "data": {
      "text/plain": [
       "0         22362\n",
       "1       1366270\n",
       "2        638500\n",
       "3        920720\n",
       "4        312860\n",
       "         ...   \n",
       "1551    2388020\n",
       "1552    2386460\n",
       "1553    1701130\n",
       "1554    2164690\n",
       "1555    2309280\n",
       "Name: 0, Length: 1556, dtype: int64"
      ]
     },
     "execution_count": 30,
     "metadata": {},
     "output_type": "execute_result"
    }
   ],
   "source": [
    "fail_id[0]"
   ]
  },
  {
   "cell_type": "code",
   "execution_count": 32,
   "id": "proved-diamond",
   "metadata": {},
   "outputs": [
    {
     "data": {
      "text/html": [
       "<div>\n",
       "<style scoped>\n",
       "    .dataframe tbody tr th:only-of-type {\n",
       "        vertical-align: middle;\n",
       "    }\n",
       "\n",
       "    .dataframe tbody tr th {\n",
       "        vertical-align: top;\n",
       "    }\n",
       "\n",
       "    .dataframe thead th {\n",
       "        text-align: right;\n",
       "    }\n",
       "</style>\n",
       "<table border=\"1\" class=\"dataframe\">\n",
       "  <thead>\n",
       "    <tr style=\"text-align: right;\">\n",
       "      <th></th>\n",
       "      <th>AppID</th>\n",
       "    </tr>\n",
       "  </thead>\n",
       "  <tbody>\n",
       "    <tr>\n",
       "      <th>0</th>\n",
       "      <td>1023420</td>\n",
       "    </tr>\n",
       "    <tr>\n",
       "      <th>1</th>\n",
       "      <td>717980</td>\n",
       "    </tr>\n",
       "    <tr>\n",
       "      <th>2</th>\n",
       "      <td>1549420</td>\n",
       "    </tr>\n",
       "    <tr>\n",
       "      <th>3</th>\n",
       "      <td>570770</td>\n",
       "    </tr>\n",
       "    <tr>\n",
       "      <th>4</th>\n",
       "      <td>553260</td>\n",
       "    </tr>\n",
       "    <tr>\n",
       "      <th>5</th>\n",
       "      <td>1277340</td>\n",
       "    </tr>\n",
       "    <tr>\n",
       "      <th>6</th>\n",
       "      <td>1099400</td>\n",
       "    </tr>\n",
       "    <tr>\n",
       "      <th>7</th>\n",
       "      <td>239430</td>\n",
       "    </tr>\n",
       "    <tr>\n",
       "      <th>8</th>\n",
       "      <td>694070</td>\n",
       "    </tr>\n",
       "    <tr>\n",
       "      <th>9</th>\n",
       "      <td>1921760</td>\n",
       "    </tr>\n",
       "  </tbody>\n",
       "</table>\n",
       "</div>"
      ],
      "text/plain": [
       "     AppID\n",
       "0  1023420\n",
       "1   717980\n",
       "2  1549420\n",
       "3   570770\n",
       "4   553260\n",
       "5  1277340\n",
       "6  1099400\n",
       "7   239430\n",
       "8   694070\n",
       "9  1921760"
      ]
     },
     "execution_count": 32,
     "metadata": {},
     "output_type": "execute_result"
    }
   ],
   "source": [
    "check.head(10)"
   ]
  },
  {
   "cell_type": "code",
   "execution_count": 33,
   "id": "organized-delight",
   "metadata": {},
   "outputs": [],
   "source": [
    "check_success=[]\n",
    "check_fail=[]"
   ]
  },
  {
   "cell_type": "code",
   "execution_count": 34,
   "id": "optimum-guide",
   "metadata": {},
   "outputs": [],
   "source": [
    "for i in check['AppID']:\n",
    "    if os.path.exists('D:\\paper\\game\\data\\pictures/'+str(i)+'.jpg'):\n",
    "        check_success.extend([i])\n",
    "    else:\n",
    "        check_fail.extend([i])"
   ]
  },
  {
   "cell_type": "code",
   "execution_count": 35,
   "id": "horizontal-sydney",
   "metadata": {},
   "outputs": [
    {
     "data": {
      "text/plain": [
       "[22362]"
      ]
     },
     "execution_count": 35,
     "metadata": {},
     "output_type": "execute_result"
    }
   ],
   "source": [
    "check_fail"
   ]
  },
  {
   "cell_type": "code",
   "execution_count": 36,
   "id": "interpreted-disabled",
   "metadata": {},
   "outputs": [],
   "source": [
    "success2=[]\n",
    "fail2=[]"
   ]
  },
  {
   "cell_type": "code",
   "execution_count": 37,
   "id": "young-conference",
   "metadata": {},
   "outputs": [],
   "source": [
    "for i in data['AppID']:\n",
    "    if os.path.exists('D:\\paper\\game\\data\\pictures/'+str(i)+'.jpg'):\n",
    "        success2.extend([i])\n",
    "    else:\n",
    "        fail2.extend([i])"
   ]
  },
  {
   "cell_type": "code",
   "execution_count": 39,
   "id": "reliable-offer",
   "metadata": {},
   "outputs": [
    {
     "data": {
      "text/plain": [
       "449"
      ]
     },
     "execution_count": 39,
     "metadata": {},
     "output_type": "execute_result"
    }
   ],
   "source": [
    "len(fail2)"
   ]
  },
  {
   "cell_type": "code",
   "execution_count": 42,
   "id": "inappropriate-stroke",
   "metadata": {},
   "outputs": [],
   "source": [
    "fail2_id = pd.DataFrame(data=fail2)\n",
    "fail2_id.columns=['Appid']\n",
    "fail2_id.to_csv('fail2_id.csv')"
   ]
  },
  {
   "cell_type": "code",
   "execution_count": 44,
   "id": "caring-fiction",
   "metadata": {},
   "outputs": [],
   "source": [
    "success3=[]\n",
    "fail3=[]"
   ]
  },
  {
   "cell_type": "code",
   "execution_count": 45,
   "id": "prescribed-education",
   "metadata": {},
   "outputs": [],
   "source": [
    "for i in data['AppID']:\n",
    "    if os.path.exists('D:\\paper\\game\\data\\pictures/'+str(i)+'.jpg'):\n",
    "        success3.extend([i])\n",
    "    else:\n",
    "        fail3.extend([i])"
   ]
  },
  {
   "cell_type": "code",
   "execution_count": 46,
   "id": "hydraulic-shaft",
   "metadata": {},
   "outputs": [
    {
     "data": {
      "text/plain": [
       "48"
      ]
     },
     "execution_count": 46,
     "metadata": {},
     "output_type": "execute_result"
    }
   ],
   "source": [
    "len(fail3)"
   ]
  },
  {
   "cell_type": "code",
   "execution_count": 47,
   "id": "medieval-perfume",
   "metadata": {},
   "outputs": [],
   "source": [
    "fail3_id = pd.DataFrame(data=fail3)\n",
    "fail3_id.columns=['Appid']\n",
    "fail3_id.to_csv('fail3_id.csv')"
   ]
  },
  {
   "cell_type": "code",
   "execution_count": 52,
   "id": "talented-operator",
   "metadata": {},
   "outputs": [
    {
     "data": {
      "text/html": [
       "<div>\n",
       "<style scoped>\n",
       "    .dataframe tbody tr th:only-of-type {\n",
       "        vertical-align: middle;\n",
       "    }\n",
       "\n",
       "    .dataframe tbody tr th {\n",
       "        vertical-align: top;\n",
       "    }\n",
       "\n",
       "    .dataframe thead th {\n",
       "        text-align: right;\n",
       "    }\n",
       "</style>\n",
       "<table border=\"1\" class=\"dataframe\">\n",
       "  <thead>\n",
       "    <tr style=\"text-align: right;\">\n",
       "      <th></th>\n",
       "      <th>Appid</th>\n",
       "    </tr>\n",
       "  </thead>\n",
       "  <tbody>\n",
       "    <tr>\n",
       "      <th>38</th>\n",
       "      <td>2380190</td>\n",
       "    </tr>\n",
       "  </tbody>\n",
       "</table>\n",
       "</div>"
      ],
      "text/plain": [
       "      Appid\n",
       "38  2380190"
      ]
     },
     "execution_count": 52,
     "metadata": {},
     "output_type": "execute_result"
    }
   ],
   "source": [
    "fail3_id[fail3_id['Appid']==2380190]"
   ]
  },
  {
   "cell_type": "code",
   "execution_count": 53,
   "id": "tender-technical",
   "metadata": {},
   "outputs": [],
   "source": [
    "success4=[]\n",
    "fail4=[]"
   ]
  },
  {
   "cell_type": "code",
   "execution_count": 54,
   "id": "amino-harvey",
   "metadata": {},
   "outputs": [],
   "source": [
    "for i in data['AppID']:\n",
    "    if os.path.exists('D:\\paper\\game\\data\\pictures/'+str(i)+'.jpg'):\n",
    "        success4.extend([i])\n",
    "    else:\n",
    "        fail4.extend([i])"
   ]
  },
  {
   "cell_type": "code",
   "execution_count": 55,
   "id": "growing-relative",
   "metadata": {},
   "outputs": [
    {
     "data": {
      "text/plain": [
       "[22362,\n",
       " 1366270,\n",
       " 638500,\n",
       " 920720,\n",
       " 312860,\n",
       " 983360,\n",
       " 298860,\n",
       " 382940,\n",
       " 451330,\n",
       " 22360,\n",
       " 1688010,\n",
       " 366842,\n",
       " 652930,\n",
       " 950900]"
      ]
     },
     "execution_count": 55,
     "metadata": {},
     "output_type": "execute_result"
    }
   ],
   "source": [
    "fail4"
   ]
  },
  {
   "cell_type": "code",
   "execution_count": 59,
   "id": "advance-bathroom",
   "metadata": {},
   "outputs": [
    {
     "name": "stdout",
     "output_type": "stream",
     "text": [
      "3290    https://cdn.akamai.steamstatic.com/steam/apps/...\n",
      "Name: Header image, dtype: object\n",
      "26712    https://cdn.akamai.steamstatic.com/steam/apps/...\n",
      "Name: Header image, dtype: object\n",
      "27211    https://cdn.akamai.steamstatic.com/steam/apps/...\n",
      "Name: Header image, dtype: object\n",
      "27539    https://cdn.akamai.steamstatic.com/steam/apps/...\n",
      "Name: Header image, dtype: object\n",
      "37598    https://cdn.akamai.steamstatic.com/steam/apps/...\n",
      "Name: Header image, dtype: object\n",
      "38355    https://cdn.akamai.steamstatic.com/steam/apps/...\n",
      "Name: Header image, dtype: object\n",
      "50941    https://cdn.akamai.steamstatic.com/steam/apps/...\n",
      "Name: Header image, dtype: object\n",
      "51784    https://cdn.akamai.steamstatic.com/steam/apps/...\n",
      "Name: Header image, dtype: object\n",
      "52723    https://cdn.akamai.steamstatic.com/steam/apps/...\n",
      "Name: Header image, dtype: object\n",
      "54598    https://cdn.akamai.steamstatic.com/steam/apps/...\n",
      "Name: Header image, dtype: object\n",
      "54748    https://cdn.akamai.steamstatic.com/steam/apps/...\n",
      "Name: Header image, dtype: object\n",
      "60571    https://cdn.akamai.steamstatic.com/steam/apps/...\n",
      "Name: Header image, dtype: object\n",
      "60598    https://cdn.akamai.steamstatic.com/steam/apps/...\n",
      "Name: Header image, dtype: object\n",
      "69648    https://cdn.akamai.steamstatic.com/steam/apps/...\n",
      "Name: Header image, dtype: object\n"
     ]
    }
   ],
   "source": [
    "for i in fail4:\n",
    "    print(data[data['AppID']==i]['Header image'])"
   ]
  },
  {
   "cell_type": "code",
   "execution_count": null,
   "id": "connected-kidney",
   "metadata": {},
   "outputs": [],
   "source": []
  }
 ],
 "metadata": {
  "kernelspec": {
   "display_name": "Python 3",
   "language": "python",
   "name": "python3"
  },
  "language_info": {
   "codemirror_mode": {
    "name": "ipython",
    "version": 3
   },
   "file_extension": ".py",
   "mimetype": "text/x-python",
   "name": "python",
   "nbconvert_exporter": "python",
   "pygments_lexer": "ipython3",
   "version": "3.9.7"
  },
  "toc": {
   "base_numbering": 1,
   "nav_menu": {},
   "number_sections": true,
   "sideBar": true,
   "skip_h1_title": false,
   "title_cell": "Table of Contents",
   "title_sidebar": "Contents",
   "toc_cell": false,
   "toc_position": {},
   "toc_section_display": true,
   "toc_window_display": false
  }
 },
 "nbformat": 4,
 "nbformat_minor": 5
}
